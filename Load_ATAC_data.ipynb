{
 "cells": [
  {
   "cell_type": "code",
   "execution_count": 1,
   "metadata": {},
   "outputs": [],
   "source": [
    "# Essential packages\n",
    "import scanpy as sc\n",
    "import anndata as ad\n",
    "import pandas as pd\n",
    "import numpy as np\n",
    "import scipy.sparse as sparse\n",
    "import muon as mu  # specifically for multiome data\n",
    "import matplotlib.pyplot as plt\n",
    "\n",
    "# For reading R objects\n",
    "import rpy2.robjects as robjects\n",
    "from rpy2.robjects import pandas2ri\n",
    "from rpy2.robjects.conversion import localconverter\n",
    "\n",
    "# For reading 10x HDF5 files\n",
    "import h5py\n",
    "import os"
   ]
  },
  {
   "cell_type": "code",
   "execution_count": 2,
   "metadata": {},
   "outputs": [],
   "source": [
    "import rpy2\n",
    "pandas2ri.activate()\n",
    "%load_ext rpy2.ipython"
   ]
  },
  {
   "cell_type": "code",
   "execution_count": 3,
   "metadata": {},
   "outputs": [],
   "source": [
    "wd_dir = '/beegfs/scratch/ric.broccoli/kubacki.michal/SRF_SET/Multiome_SETBP1'\n",
    "os.chdir(wd_dir)"
   ]
  },
  {
   "cell_type": "code",
   "execution_count": null,
   "metadata": {},
   "outputs": [],
   "source": [
    "%%R\n",
    "library(Seurat)\n",
    "library(SeuratDisk)\n",
    "\n",
    "seurat_obj <- readRDS(\"/beegfs/scratch/ric.broccoli/kubacki.michal/SRF_SET/Multiome_SETBP1/Multiome_SETBP1/all/AGG_Setbp1/outs/RNA/scRNA_multiome.rds\")\n",
    "SaveH5Seurat(seurat_obj, \"multiome_data.h5Seurat\")\n",
    "Convert(\"multiome_data.h5Seurat\", dest = \"h5ad\")"
   ]
  }
 ],
 "metadata": {
  "kernelspec": {
   "display_name": "jupyter",
   "language": "python",
   "name": "jupyter"
  },
  "language_info": {
   "codemirror_mode": {
    "name": "ipython",
    "version": 3
   },
   "file_extension": ".py",
   "mimetype": "text/x-python",
   "name": "python",
   "nbconvert_exporter": "python",
   "pygments_lexer": "ipython3",
   "version": "3.11.10"
  }
 },
 "nbformat": 4,
 "nbformat_minor": 2
}
